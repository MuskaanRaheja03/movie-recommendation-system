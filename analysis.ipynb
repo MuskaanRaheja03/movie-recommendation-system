{
 "cells": [
  {
   "cell_type": "markdown",
   "id": "e3087ac3",
   "metadata": {},
   "source": [
    "# 🎬 Movie Recommendation & Rating System Analysis\n",
    "\n",
    "This notebook performs exploratory data analysis on the `movies.db` database. We analyze average ratings, genre distributions, and recommendations.\n"
   ]
  },
  {
   "cell_type": "code",
   "execution_count": null,
   "id": "228ab92b",
   "metadata": {},
   "outputs": [],
   "source": [
    "import sqlite3\n",
    "import pandas as pd\n",
    "import matplotlib.pyplot as plt\n",
    "import seaborn as sns\n",
    "\n",
    "sns.set(style=\"whitegrid\")\n",
    "\n",
    "# Connect to the database\n",
    "conn = sqlite3.connect(\"movies.db\")\n"
   ]
  },
  {
   "cell_type": "code",
   "execution_count": null,
   "id": "ed43cf51",
   "metadata": {},
   "outputs": [],
   "source": [
    "query_genre = '''\n",
    "SELECT Genre, AVG(Rating) as Avg_Rating\n",
    "FROM Movie\n",
    "JOIN Rating ON Movie.Movie_ID = Rating.Movie_ID\n",
    "GROUP BY Genre\n",
    "'''\n",
    "df_genre = pd.read_sql_query(query_genre, conn)\n",
    "\n",
    "plt.figure(figsize=(8,6))\n",
    "sns.barplot(data=df_genre, x=\"Genre\", y=\"Avg_Rating\")\n",
    "plt.title(\"Average Rating per Genre\")\n",
    "plt.ylim(0, 5)\n",
    "plt.xticks(rotation=45)\n",
    "plt.show()\n"
   ]
  },
  {
   "cell_type": "code",
   "execution_count": null,
   "id": "657585c8",
   "metadata": {},
   "outputs": [],
   "source": [
    "query_count = '''\n",
    "SELECT Genre, COUNT(*) as Movie_Count\n",
    "FROM Movie\n",
    "GROUP BY Genre\n",
    "'''\n",
    "df_count = pd.read_sql_query(query_count, conn)\n",
    "\n",
    "plt.figure(figsize=(8,6))\n",
    "sns.barplot(data=df_count, x=\"Genre\", y=\"Movie_Count\")\n",
    "plt.title(\"Number of Movies per Genre\")\n",
    "plt.xticks(rotation=45)\n",
    "plt.show()\n"
   ]
  },
  {
   "cell_type": "code",
   "execution_count": null,
   "id": "aa15902c",
   "metadata": {},
   "outputs": [],
   "source": [
    "query_rec = '''\n",
    "SELECT Title, COUNT(*) as Num_Recommendations\n",
    "FROM Movie\n",
    "JOIN Recommendation ON Movie.Movie_ID = Recommendation.Movie_ID\n",
    "GROUP BY Title\n",
    "ORDER BY Num_Recommendations DESC\n",
    "'''\n",
    "df_rec = pd.read_sql_query(query_rec, conn)\n",
    "\n",
    "plt.figure(figsize=(8,6))\n",
    "sns.barplot(data=df_rec, x=\"Title\", y=\"Num_Recommendations\")\n",
    "plt.title(\"Top Recommended Movies\")\n",
    "plt.xticks(rotation=45)\n",
    "plt.show()\n"
   ]
  },
  {
   "cell_type": "code",
   "execution_count": null,
   "id": "0dcc0f02",
   "metadata": {},
   "outputs": [],
   "source": [
    "query_director = '''\n",
    "SELECT Director, AVG(Rating) as Avg_Rating\n",
    "FROM Movie\n",
    "JOIN Rating ON Movie.Movie_ID = Rating.Movie_ID\n",
    "GROUP BY Director\n",
    "ORDER BY Avg_Rating DESC\n",
    "'''\n",
    "df_director = pd.read_sql_query(query_director, conn)\n",
    "\n",
    "plt.figure(figsize=(10,6))\n",
    "sns.barplot(data=df_director, x=\"Avg_Rating\", y=\"Director\")\n",
    "plt.title(\"Average Rating per Director\")\n",
    "plt.xlim(0, 5)\n",
    "plt.show()\n",
    "\n",
    "conn.close()\n"
   ]
  }
 ],
 "metadata": {},
 "nbformat": 4,
 "nbformat_minor": 5
}
